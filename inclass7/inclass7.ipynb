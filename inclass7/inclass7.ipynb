{
 "cells": [
  {
   "cell_type": "code",
   "execution_count": null,
   "id": "bda97017-9b08-4176-aa50-cbfe8772e683",
   "metadata": {},
   "outputs": [],
   "source": [
    "##Question 1)\n",
    "##         C) True\n",
    "##Question 2)\n",
    "##         D) All of the above \n",
    "##Question 3)\n",
    "##         A) + positive\n",
    "##         B) + positive "
   ]
  },
  {
   "cell_type": "code",
   "execution_count": 9,
   "id": "a73ff87f-dffb-4d35-a2a7-d81152d49077",
   "metadata": {},
   "outputs": [],
   "source": [
    "##Question 4)\n",
    "import numpy as np\n",
    "##Creating the two arrays\n",
    "a = np.array([1,3])\n",
    "b = np.array([2,3])"
   ]
  },
  {
   "cell_type": "code",
   "execution_count": 10,
   "id": "79465620-e798-41ba-aca2-26ff6c562816",
   "metadata": {
    "tags": []
   },
   "outputs": [
    {
     "data": {
      "text/plain": [
       "array([1, 3])"
      ]
     },
     "execution_count": 10,
     "metadata": {},
     "output_type": "execute_result"
    }
   ],
   "source": [
    "a"
   ]
  },
  {
   "cell_type": "code",
   "execution_count": 11,
   "id": "f0c78ca1-8e27-46b8-b46c-6d5027e3386c",
   "metadata": {},
   "outputs": [
    {
     "data": {
      "text/plain": [
       "array([2, 3])"
      ]
     },
     "execution_count": 11,
     "metadata": {},
     "output_type": "execute_result"
    }
   ],
   "source": [
    "b"
   ]
  },
  {
   "cell_type": "code",
   "execution_count": 12,
   "id": "3eba66ec-6b2d-4caf-8ca7-56abca073ad7",
   "metadata": {},
   "outputs": [
    {
     "data": {
      "text/plain": [
       "array([-1,  0])"
      ]
     },
     "execution_count": 12,
     "metadata": {},
     "output_type": "execute_result"
    }
   ],
   "source": [
    "a - b "
   ]
  },
  {
   "cell_type": "code",
   "execution_count": 13,
   "id": "c97ab9a5-9f28-4617-be8d-9cd99af66f14",
   "metadata": {},
   "outputs": [
    {
     "data": {
      "text/plain": [
       "array([1, 0], dtype=int32)"
      ]
     },
     "execution_count": 13,
     "metadata": {},
     "output_type": "execute_result"
    }
   ],
   "source": [
    "np.power(a-b,2)"
   ]
  },
  {
   "cell_type": "code",
   "execution_count": 14,
   "id": "b42fe1c6-f09d-4dea-82ae-bd1c0943ae4e",
   "metadata": {},
   "outputs": [
    {
     "data": {
      "text/plain": [
       "1"
      ]
     },
     "execution_count": 14,
     "metadata": {},
     "output_type": "execute_result"
    }
   ],
   "source": [
    "np.sum(np.power(a-b,2))"
   ]
  },
  {
   "cell_type": "code",
   "execution_count": 15,
   "id": "b3df5247-5f45-42db-809f-adbeef816226",
   "metadata": {},
   "outputs": [
    {
     "data": {
      "text/plain": [
       "1.0"
      ]
     },
     "execution_count": 15,
     "metadata": {},
     "output_type": "execute_result"
    }
   ],
   "source": [
    "##calculating the eucladian distance \n",
    "np.sqrt(np.sum(np.power(a-b,2)))"
   ]
  }
 ],
 "metadata": {
  "kernelspec": {
   "display_name": "Python 3",
   "language": "python",
   "name": "python3"
  },
  "language_info": {
   "codemirror_mode": {
    "name": "ipython",
    "version": 3
   },
   "file_extension": ".py",
   "mimetype": "text/x-python",
   "name": "python",
   "nbconvert_exporter": "python",
   "pygments_lexer": "ipython3",
   "version": "3.8.8"
  }
 },
 "nbformat": 4,
 "nbformat_minor": 5
}
