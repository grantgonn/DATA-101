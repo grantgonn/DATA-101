{
 "cells": [
  {
   "cell_type": "code",
   "execution_count": 2,
   "id": "78ceebc0-5985-45fc-9d66-c05cf434b0df",
   "metadata": {},
   "outputs": [],
   "source": [
    "import pandas as pd"
   ]
  },
  {
   "cell_type": "code",
   "execution_count": 37,
   "id": "e462f78a-0d8b-4f27-af06-761e82cc87b1",
   "metadata": {},
   "outputs": [
    {
     "data": {
      "text/plain": [
       "<bound method NDFrame.head of      sepal_length  sepal_width  petal_length  petal_width           class\n",
       "0             5.1          3.5           1.4          0.2     Iris-setosa\n",
       "1             4.9          3.0           1.4          0.2     Iris-setosa\n",
       "2             4.7          3.2           1.3          0.2     Iris-setosa\n",
       "3             4.6          3.1           1.5          0.2     Iris-setosa\n",
       "4             5.0          3.6           1.4          0.2     Iris-setosa\n",
       "..            ...          ...           ...          ...             ...\n",
       "145           6.7          3.0           5.2          2.3  Iris-virginica\n",
       "146           6.3          2.5           5.0          1.9  Iris-virginica\n",
       "147           6.5          3.0           5.2          2.0  Iris-virginica\n",
       "148           6.2          3.4           5.4          2.3  Iris-virginica\n",
       "149           5.9          3.0           5.1          1.8  Iris-virginica\n",
       "\n",
       "[150 rows x 5 columns]>"
      ]
     },
     "execution_count": 37,
     "metadata": {},
     "output_type": "execute_result"
    }
   ],
   "source": [
    "## Reading csv file\n",
    "iris = pd.read_csv('iris_data.csv')\n",
    "iris.head"
   ]
  },
  {
   "cell_type": "code",
   "execution_count": 4,
   "id": "a89b65a8-f4b4-4323-8c99-ecde033a0262",
   "metadata": {},
   "outputs": [],
   "source": [
    "## Importing libraries\n",
    "import matplotlib.pyplot as plt\n",
    "import numpy as np"
   ]
  },
  {
   "cell_type": "code",
   "execution_count": 8,
   "id": "a430ef51-b852-4e24-9f74-057b3432f5e6",
   "metadata": {},
   "outputs": [
    {
     "data": {
      "text/plain": [
       "[<matplotlib.lines.Line2D at 0x2419b9e88b0>]"
      ]
     },
     "execution_count": 8,
     "metadata": {},
     "output_type": "execute_result"
    },
    {
     "data": {
      "image/png": "[encoded data removed]",
      "text/plain": [
       "<Figure size 432x288 with 1 Axes>"
      ]
     },
     "metadata": {
      "needs_background": "light"
     },
     "output_type": "display_data"
    }
   ],
   "source": [
    "\n",
    "\n",
    "##Creating scatter plot\n",
    "plt.plot(iris['petal_length'], iris[\"petal_width\"], 'o')\n",
    "\n"
   ]
  },
  {
   "cell_type": "code",
   "execution_count": null,
   "id": "11941214-e980-4e29-879d-4b83763578c6",
   "metadata": {},
   "outputs": [],
   "source": [
    "## Based on the scatter, we a positive association between two variables petal length and petal width. As one increases so does the other."
   ]
  },
  {
   "cell_type": "code",
   "execution_count": 31,
   "id": "e7cde4eb-fd35-4ba6-8bf5-1c85b6b1ece2",
   "metadata": {},
   "outputs": [
    {
     "data": {
      "text/plain": [
       "0     -0.897674\n",
       "1     -1.139200\n",
       "2     -1.380727\n",
       "3     -1.501490\n",
       "4     -1.018437\n",
       "         ...   \n",
       "145    1.034539\n",
       "146    0.551486\n",
       "147    0.793012\n",
       "148    0.430722\n",
       "149    0.068433\n",
       "Name: sepal_length, Length: 150, dtype: float64"
      ]
     },
     "execution_count": 31,
     "metadata": {},
     "output_type": "execute_result"
    }
   ],
   "source": [
    "## Creating z-score for sepal length\n",
    "sepal_length_mean = np.mean(iris['sepal_length'])\n",
    "sepal_length_mean\n",
    "\n",
    "sepal_length_sd = np.std(iris['sepal_length'], ddof = 1)\n",
    "sepal_length_sd\n",
    "\n",
    "z_sepal_length = (iris['sepal_length'] - sepal_length_mean) / sepal_length_sd\n",
    "z_sepal_length"
   ]
  },
  {
   "cell_type": "code",
   "execution_count": 32,
   "id": "d28abd87-2b6e-4a1c-87d1-f4201eee8467",
   "metadata": {},
   "outputs": [
    {
     "data": {
      "text/plain": [
       "array([-0.89767388, -1.13920048, -1.38072709, -1.50149039, -1.01843718,\n",
       "       -0.53538397, -1.50149039, -1.01843718, -1.74301699, -1.13920048,\n",
       "       -0.53538397, -1.25996379, -1.25996379, -1.8637803 , -0.05233076,\n",
       "       -0.17309407, -0.53538397, -0.89767388, -0.17309407, -0.89767388,\n",
       "       -0.53538397, -0.89767388, -1.50149039, -0.89767388, -1.25996379,\n",
       "       -1.01843718, -1.01843718, -0.77691058, -0.77691058, -1.38072709,\n",
       "       -1.25996379, -0.53538397, -0.77691058, -0.41462067, -1.13920048,\n",
       "       -1.01843718, -0.41462067, -1.13920048, -1.74301699, -0.89767388,\n",
       "       -1.01843718, -1.62225369, -1.74301699, -1.01843718, -0.89767388,\n",
       "       -1.25996379, -0.89767388, -1.50149039, -0.65614727, -1.01843718,\n",
       "        1.39682886,  0.67224905,  1.27606556, -0.41462067,  0.79301235,\n",
       "       -0.17309407,  0.55148575, -1.13920048,  0.91377565, -0.77691058,\n",
       "       -1.01843718,  0.06843254,  0.18919584,  0.30995914, -0.29385737,\n",
       "        1.03453895, -0.29385737, -0.05233076,  0.43072244, -0.29385737,\n",
       "        0.06843254,  0.30995914,  0.55148575,  0.30995914,  0.67224905,\n",
       "        0.91377565,  1.15530226,  1.03453895,  0.18919584, -0.17309407,\n",
       "       -0.41462067, -0.41462067, -0.05233076,  0.18919584, -0.53538397,\n",
       "        0.18919584,  1.03453895,  0.55148575, -0.29385737, -0.41462067,\n",
       "       -0.41462067,  0.30995914, -0.05233076, -1.01843718, -0.29385737,\n",
       "       -0.17309407, -0.17309407,  0.43072244, -0.89767388, -0.17309407,\n",
       "        0.55148575, -0.05233076,  1.51759216,  0.55148575,  0.79301235,\n",
       "        2.12140867, -1.13920048,  1.75911877,  1.03453895,  1.63835547,\n",
       "        0.79301235,  0.67224905,  1.15530226, -0.17309407, -0.05233076,\n",
       "        0.67224905,  0.79301235,  2.24217198,  2.24217198,  0.18919584,\n",
       "        1.27606556, -0.29385737,  2.24217198,  0.55148575,  1.03453895,\n",
       "        1.63835547,  0.43072244,  0.30995914,  0.67224905,  1.63835547,\n",
       "        1.87988207,  2.48369858,  0.67224905,  0.55148575,  0.30995914,\n",
       "        2.24217198,  0.55148575,  0.67224905,  0.18919584,  1.27606556,\n",
       "        1.03453895,  1.27606556, -0.05233076,  1.15530226,  1.03453895,\n",
       "        1.03453895,  0.55148575,  0.79301235,  0.43072244,  0.06843254])"
      ]
     },
     "execution_count": 32,
     "metadata": {},
     "output_type": "execute_result"
    }
   ],
   "source": [
    "## Creating z-score for sepal length\n",
    "iris['sepal_length']\n",
    "a = iris['sepal_length'].values\n",
    "\n",
    "a_mean = np.mean(a)\n",
    "a_sd = np.std(a, ddof = 1)\n",
    "z_sepal_length = (a - a_mean) / a_sd\n",
    "z_sepal_length"
   ]
  },
  {
   "cell_type": "code",
   "execution_count": 33,
   "id": "2199edec-9301-4fdf-b763-bc9000852c27",
   "metadata": {},
   "outputs": [
    {
     "data": {
      "text/plain": [
       "array([ 1.02861128, -0.12454038,  0.33672028,  0.10608995,  1.25924161,\n",
       "        1.95113261,  0.79798095,  0.79798095, -0.35517071,  0.10608995,\n",
       "        1.48987194,  0.79798095, -0.12454038, -0.12454038,  2.18176294,\n",
       "        3.10428427,  1.95113261,  1.02861128,  1.72050228,  1.72050228,\n",
       "        0.79798095,  1.48987194,  1.25924161,  0.56735062,  0.79798095,\n",
       "       -0.12454038,  0.79798095,  1.02861128,  0.79798095,  0.33672028,\n",
       "        0.10608995,  0.79798095,  2.41239327,  2.64302361,  0.10608995,\n",
       "        0.33672028,  1.02861128,  0.10608995, -0.12454038,  0.79798095,\n",
       "        1.02861128, -1.7389527 ,  0.33672028,  1.02861128,  1.72050228,\n",
       "       -0.12454038,  1.72050228,  0.33672028,  1.48987194,  0.56735062,\n",
       "        0.33672028,  0.33672028,  0.10608995, -1.7389527 , -0.58580104,\n",
       "       -0.58580104,  0.56735062, -1.50832237, -0.35517071, -0.81643138,\n",
       "       -2.4308437 , -0.12454038, -1.96958304, -0.35517071, -0.35517071,\n",
       "        0.10608995, -0.12454038, -0.81643138, -1.96958304, -1.27769204,\n",
       "        0.33672028, -0.58580104, -1.27769204, -0.58580104, -0.35517071,\n",
       "       -0.12454038, -0.58580104, -0.12454038, -0.35517071, -1.04706171,\n",
       "       -1.50832237, -1.50832237, -0.81643138, -0.81643138, -0.12454038,\n",
       "        0.79798095,  0.10608995, -1.7389527 , -0.12454038, -1.27769204,\n",
       "       -1.04706171, -0.12454038, -1.04706171, -1.7389527 , -0.81643138,\n",
       "       -0.12454038, -0.35517071, -0.35517071, -1.27769204, -0.58580104,\n",
       "        0.56735062, -0.81643138, -0.12454038, -0.35517071, -0.12454038,\n",
       "       -0.12454038, -1.27769204, -0.35517071, -1.27769204,  1.25924161,\n",
       "        0.33672028, -0.81643138, -0.12454038, -1.27769204, -0.58580104,\n",
       "        0.33672028, -0.12454038,  1.72050228, -1.04706171, -1.96958304,\n",
       "        0.33672028, -0.58580104, -0.58580104, -0.81643138,  0.56735062,\n",
       "        0.33672028, -0.58580104, -0.12454038, -0.58580104, -0.12454038,\n",
       "       -0.58580104,  1.72050228, -0.58580104, -0.58580104, -1.04706171,\n",
       "       -0.12454038,  0.79798095,  0.10608995, -0.12454038,  0.10608995,\n",
       "        0.10608995,  0.10608995, -0.81643138,  0.33672028,  0.56735062,\n",
       "       -0.12454038, -1.27769204, -0.12454038,  0.79798095, -0.12454038])"
      ]
     },
     "execution_count": 33,
     "metadata": {},
     "output_type": "execute_result"
    }
   ],
   "source": [
    "## Calculating z-score of sepal width\n",
    "iris['sepal_width']\n",
    "b = iris['sepal_width'].values\n",
    "\n",
    "b_mean = np.mean(b)\n",
    "b_sd = np.std(b, ddof = 1)\n",
    "z_sepal_width = (b - b_mean) / b_sd\n",
    "z_sepal_width"
   ]
  },
  {
   "cell_type": "code",
   "execution_count": 34,
   "id": "b9191a46-96ec-4899-880d-e0d4194548fd",
   "metadata": {},
   "outputs": [
    {
     "data": {
      "text/plain": [
       "array([-1.33679402, -1.33679402, -1.39346985, -1.28011819, -1.33679402,\n",
       "       -1.16676652, -1.33679402, -1.28011819, -1.33679402, -1.28011819,\n",
       "       -1.28011819, -1.22344235, -1.33679402, -1.50682152, -1.45014569,\n",
       "       -1.28011819, -1.39346985, -1.33679402, -1.16676652, -1.28011819,\n",
       "       -1.16676652, -1.28011819, -1.56349736, -1.16676652, -1.05341485,\n",
       "       -1.22344235, -1.22344235, -1.28011819, -1.33679402, -1.22344235,\n",
       "       -1.22344235, -1.28011819, -1.28011819, -1.33679402, -1.28011819,\n",
       "       -1.45014569, -1.39346985, -1.28011819, -1.39346985, -1.28011819,\n",
       "       -1.39346985, -1.39346985, -1.39346985, -1.22344235, -1.05341485,\n",
       "       -1.33679402, -1.22344235, -1.33679402, -1.28011819, -1.33679402,\n",
       "        0.53350852,  0.42015685,  0.64686019,  0.13677768,  0.47683269,\n",
       "        0.42015685,  0.53350852, -0.25995316,  0.47683269,  0.08010185,\n",
       "       -0.14660149,  0.25012935,  0.13677768,  0.53350852, -0.08992566,\n",
       "        0.36348102,  0.42015685,  0.19345352,  0.42015685,  0.08010185,\n",
       "        0.59018436,  0.13677768,  0.64686019,  0.53350852,  0.30680518,\n",
       "        0.36348102,  0.59018436,  0.70353603,  0.42015685, -0.14660149,\n",
       "        0.02342601, -0.03324982,  0.08010185,  0.76021186,  0.42015685,\n",
       "        0.42015685,  0.53350852,  0.36348102,  0.19345352,  0.13677768,\n",
       "        0.36348102,  0.47683269,  0.13677768, -0.25995316,  0.25012935,\n",
       "        0.25012935,  0.25012935,  0.30680518, -0.42998067,  0.19345352,\n",
       "        1.27029437,  0.76021186,  1.21361854,  1.04359104,  1.1569427 ,\n",
       "        1.61034938,  0.42015685,  1.44032188,  1.1569427 ,  1.32697021,\n",
       "        0.76021186,  0.87356353,  0.9869152 ,  0.70353603,  0.76021186,\n",
       "        0.87356353,  0.9869152 ,  1.66702522,  1.78037689,  0.70353603,\n",
       "        1.10026687,  0.64686019,  1.66702522,  0.64686019,  1.10026687,\n",
       "        1.27029437,  0.59018436,  0.64686019,  1.04359104,  1.1569427 ,\n",
       "        1.32697021,  1.49699771,  1.04359104,  0.76021186,  1.04359104,\n",
       "        1.32697021,  1.04359104,  0.9869152 ,  0.59018436,  0.93023937,\n",
       "        1.04359104,  0.76021186,  0.76021186,  1.21361854,  1.10026687,\n",
       "        0.8168877 ,  0.70353603,  0.8168877 ,  0.93023937,  0.76021186])"
      ]
     },
     "execution_count": 34,
     "metadata": {},
     "output_type": "execute_result"
    }
   ],
   "source": [
    "## Calculating z-score of petal length\n",
    "iris['petal_length']\n",
    "c = iris['petal_length'].values\n",
    "c_mean = np.mean(c)\n",
    "c_sd = np.std(c, ddof = 1)\n",
    "z_petal_length = (c - c_mean) / c_sd\n",
    "z_petal_length"
   ]
  },
  {
   "cell_type": "code",
   "execution_count": 35,
   "id": "cdb9836a-8679-4bb0-ae1f-72de4b72bbdd",
   "metadata": {},
   "outputs": [
    {
     "data": {
      "text/plain": [
       "array([-1.30859282, -1.30859282, -1.30859282, -1.30859282, -1.30859282,\n",
       "       -1.04652483, -1.17755883, -1.30859282, -1.30859282, -1.43962681,\n",
       "       -1.30859282, -1.30859282, -1.43962681, -1.43962681, -1.30859282,\n",
       "       -1.04652483, -1.04652483, -1.17755883, -1.17755883, -1.17755883,\n",
       "       -1.30859282, -1.04652483, -1.30859282, -0.91549084, -1.30859282,\n",
       "       -1.30859282, -1.04652483, -1.30859282, -1.30859282, -1.30859282,\n",
       "       -1.30859282, -1.04652483, -1.43962681, -1.30859282, -1.43962681,\n",
       "       -1.30859282, -1.30859282, -1.43962681, -1.30859282, -1.30859282,\n",
       "       -1.17755883, -1.17755883, -1.30859282, -0.78445684, -1.04652483,\n",
       "       -1.17755883, -1.30859282, -1.30859282, -1.30859282, -1.30859282,\n",
       "        0.26381511,  0.3948491 ,  0.3948491 ,  0.13278111,  0.3948491 ,\n",
       "        0.13278111,  0.5258831 , -0.26032087,  0.13278111,  0.26381511,\n",
       "       -0.26032087,  0.3948491 , -0.26032087,  0.26381511,  0.13278111,\n",
       "        0.26381511,  0.3948491 , -0.26032087,  0.3948491 , -0.12928687,\n",
       "        0.78795108,  0.13278111,  0.3948491 ,  0.00174712,  0.13278111,\n",
       "        0.26381511,  0.26381511,  0.65691709,  0.3948491 , -0.26032087,\n",
       "       -0.12928687, -0.26032087,  0.00174712,  0.5258831 ,  0.3948491 ,\n",
       "        0.5258831 ,  0.3948491 ,  0.13278111,  0.13278111,  0.13278111,\n",
       "        0.00174712,  0.26381511,  0.00174712, -0.26032087,  0.13278111,\n",
       "        0.00174712,  0.13278111,  0.13278111, -0.12928687,  0.13278111,\n",
       "        1.70518904,  0.91898508,  1.18105307,  0.78795108,  1.31208706,\n",
       "        1.18105307,  0.65691709,  0.78795108,  0.78795108,  1.70518904,\n",
       "        1.05001907,  0.91898508,  1.18105307,  1.05001907,  1.57415505,\n",
       "        1.44312105,  0.78795108,  1.31208706,  1.44312105,  0.3948491 ,\n",
       "        1.44312105,  1.05001907,  1.05001907,  0.78795108,  1.18105307,\n",
       "        0.78795108,  0.78795108,  0.78795108,  1.18105307,  0.5258831 ,\n",
       "        0.91898508,  1.05001907,  1.31208706,  0.3948491 ,  0.26381511,\n",
       "        1.44312105,  1.57415505,  0.78795108,  0.78795108,  1.18105307,\n",
       "        1.57415505,  1.44312105,  0.91898508,  1.44312105,  1.70518904,\n",
       "        1.44312105,  0.91898508,  1.05001907,  1.44312105,  0.78795108])"
      ]
     },
     "execution_count": 35,
     "metadata": {},
     "output_type": "execute_result"
    }
   ],
   "source": [
    "## Calculating z-score of petal width\n",
    "iris['petal_width']\n",
    "d = iris['petal_width'].values\n",
    "d_mean = np.mean(d)\n",
    "d_sd = np.std(d, ddof = 1)\n",
    "z_petal_width = ( d - d_mean) / d_sd\n",
    "z_petal_width"
   ]
  },
  {
   "cell_type": "code",
   "execution_count": 38,
   "id": "b9a10a25-7248-4ff5-885e-53a10b11735e",
   "metadata": {},
   "outputs": [
    {
     "data": {
      "text/html": [
       "<div>\n",
       "<style scoped>\n",
       "    .dataframe tbody tr th:only-of-type {\n",
       "        vertical-align: middle;\n",
       "    }\n",
       "\n",
       "    .dataframe tbody tr th {\n",
       "        vertical-align: top;\n",
       "    }\n",
       "\n",
       "    .dataframe thead th {\n",
       "        text-align: right;\n",
       "    }\n",
       "</style>\n",
       "<table border=\"1\" class=\"dataframe\">\n",
       "  <thead>\n",
       "    <tr style=\"text-align: right;\">\n",
       "      <th></th>\n",
       "      <th>sepal_length</th>\n",
       "      <th>sepal_width</th>\n",
       "      <th>petal_length</th>\n",
       "      <th>petal_width</th>\n",
       "      <th>class</th>\n",
       "    </tr>\n",
       "  </thead>\n",
       "  <tbody>\n",
       "    <tr>\n",
       "      <th>0</th>\n",
       "      <td>5.1</td>\n",
       "      <td>3.5</td>\n",
       "      <td>1.4</td>\n",
       "      <td>0.2</td>\n",
       "      <td>Iris-setosa</td>\n",
       "    </tr>\n",
       "    <tr>\n",
       "      <th>1</th>\n",
       "      <td>4.9</td>\n",
       "      <td>3.0</td>\n",
       "      <td>1.4</td>\n",
       "      <td>0.2</td>\n",
       "      <td>Iris-setosa</td>\n",
       "    </tr>\n",
       "    <tr>\n",
       "      <th>2</th>\n",
       "      <td>4.7</td>\n",
       "      <td>3.2</td>\n",
       "      <td>1.3</td>\n",
       "      <td>0.2</td>\n",
       "      <td>Iris-setosa</td>\n",
       "    </tr>\n",
       "    <tr>\n",
       "      <th>3</th>\n",
       "      <td>4.6</td>\n",
       "      <td>3.1</td>\n",
       "      <td>1.5</td>\n",
       "      <td>0.2</td>\n",
       "      <td>Iris-setosa</td>\n",
       "    </tr>\n",
       "    <tr>\n",
       "      <th>4</th>\n",
       "      <td>5.0</td>\n",
       "      <td>3.6</td>\n",
       "      <td>1.4</td>\n",
       "      <td>0.2</td>\n",
       "      <td>Iris-setosa</td>\n",
       "    </tr>\n",
       "  </tbody>\n",
       "</table>\n",
       "</div>"
      ],
      "text/plain": [
       "   sepal_length  sepal_width  petal_length  petal_width        class\n",
       "0           5.1          3.5           1.4          0.2  Iris-setosa\n",
       "1           4.9          3.0           1.4          0.2  Iris-setosa\n",
       "2           4.7          3.2           1.3          0.2  Iris-setosa\n",
       "3           4.6          3.1           1.5          0.2  Iris-setosa\n",
       "4           5.0          3.6           1.4          0.2  Iris-setosa"
      ]
     },
     "execution_count": 38,
     "metadata": {},
     "output_type": "execute_result"
    }
   ],
   "source": [
    "iris.head()"
   ]
  },
  {
   "cell_type": "code",
   "execution_count": 78,
   "id": "e5f88aaf-86cc-4bf1-96a5-73ead0291159",
   "metadata": {},
   "outputs": [
    {
     "data": {
      "text/html": [
       "<div>\n",
       "<style scoped>\n",
       "    .dataframe tbody tr th:only-of-type {\n",
       "        vertical-align: middle;\n",
       "    }\n",
       "\n",
       "    .dataframe tbody tr th {\n",
       "        vertical-align: top;\n",
       "    }\n",
       "\n",
       "    .dataframe thead th {\n",
       "        text-align: right;\n",
       "    }\n",
       "</style>\n",
       "<table border=\"1\" class=\"dataframe\">\n",
       "  <thead>\n",
       "    <tr style=\"text-align: right;\">\n",
       "      <th></th>\n",
       "      <th>sepal_length</th>\n",
       "      <th>sepal_width</th>\n",
       "      <th>petal_length</th>\n",
       "      <th>petal_width</th>\n",
       "      <th>class</th>\n",
       "      <th>z_sepal_length</th>\n",
       "      <th>z_sepal_width</th>\n",
       "      <th>z_petal_length</th>\n",
       "      <th>z_petal_width</th>\n",
       "    </tr>\n",
       "  </thead>\n",
       "  <tbody>\n",
       "    <tr>\n",
       "      <th>0</th>\n",
       "      <td>0.194444</td>\n",
       "      <td>0.500000</td>\n",
       "      <td>0.033898</td>\n",
       "      <td>0.041667</td>\n",
       "      <td>Iris-setosa</td>\n",
       "      <td>-1.018437</td>\n",
       "      <td>0.336720</td>\n",
       "      <td>-1.450146</td>\n",
       "      <td>-1.308593</td>\n",
       "    </tr>\n",
       "    <tr>\n",
       "      <th>1</th>\n",
       "      <td>0.583333</td>\n",
       "      <td>0.500000</td>\n",
       "      <td>0.728814</td>\n",
       "      <td>0.916667</td>\n",
       "      <td>Iris-virginica</td>\n",
       "      <td>0.672249</td>\n",
       "      <td>0.336720</td>\n",
       "      <td>0.873564</td>\n",
       "      <td>1.443121</td>\n",
       "    </tr>\n",
       "    <tr>\n",
       "      <th>2</th>\n",
       "      <td>0.027778</td>\n",
       "      <td>0.416667</td>\n",
       "      <td>0.050847</td>\n",
       "      <td>0.041667</td>\n",
       "      <td>Iris-setosa</td>\n",
       "      <td>-1.743017</td>\n",
       "      <td>-0.124540</td>\n",
       "      <td>-1.393470</td>\n",
       "      <td>-1.308593</td>\n",
       "    </tr>\n",
       "    <tr>\n",
       "      <th>3</th>\n",
       "      <td>0.138889</td>\n",
       "      <td>0.583333</td>\n",
       "      <td>0.101695</td>\n",
       "      <td>0.041667</td>\n",
       "      <td>Iris-setosa</td>\n",
       "      <td>-1.259964</td>\n",
       "      <td>0.797981</td>\n",
       "      <td>-1.223442</td>\n",
       "      <td>-1.308593</td>\n",
       "    </tr>\n",
       "    <tr>\n",
       "      <th>4</th>\n",
       "      <td>0.722222</td>\n",
       "      <td>0.458333</td>\n",
       "      <td>0.694915</td>\n",
       "      <td>0.916667</td>\n",
       "      <td>Iris-virginica</td>\n",
       "      <td>1.276066</td>\n",
       "      <td>0.106090</td>\n",
       "      <td>0.760212</td>\n",
       "      <td>1.443121</td>\n",
       "    </tr>\n",
       "  </tbody>\n",
       "</table>\n",
       "</div>"
      ],
      "text/plain": [
       "   sepal_length  sepal_width  petal_length  petal_width           class  \\\n",
       "0      0.194444     0.500000      0.033898     0.041667     Iris-setosa   \n",
       "1      0.583333     0.500000      0.728814     0.916667  Iris-virginica   \n",
       "2      0.027778     0.416667      0.050847     0.041667     Iris-setosa   \n",
       "3      0.138889     0.583333      0.101695     0.041667     Iris-setosa   \n",
       "4      0.722222     0.458333      0.694915     0.916667  Iris-virginica   \n",
       "\n",
       "   z_sepal_length  z_sepal_width  z_petal_length  z_petal_width  \n",
       "0       -1.018437       0.336720       -1.450146      -1.308593  \n",
       "1        0.672249       0.336720        0.873564       1.443121  \n",
       "2       -1.743017      -0.124540       -1.393470      -1.308593  \n",
       "3       -1.259964       0.797981       -1.223442      -1.308593  \n",
       "4        1.276066       0.106090        0.760212       1.443121  "
      ]
     },
     "execution_count": 78,
     "metadata": {},
     "output_type": "execute_result"
    }
   ],
   "source": [
    "## Putting new standardized variables into saved new columns\n",
    "\n",
    "iris['z_sepal_length'] = (iris['sepal_length'] - iris['sepal_length'].mean()) / iris['sepal_length'].std()\n",
    "\n",
    "iris['z_sepal_width'] = (iris['sepal_width'] - iris['sepal_width'].mean()) / iris['sepal_width'].std()\n",
    "\n",
    "iris['z_petal_length'] = (iris['petal_length'] - iris['petal_length'].mean()) / iris['petal_length'].std()\n",
    "\n",
    "iris['z_petal_width'] = (iris['petal_width'] - iris['petal_width'].mean()) / iris['petal_width'].std()\n",
    "\n",
    "iris.head()"
   ]
  },
  {
   "cell_type": "code",
   "execution_count": 41,
   "id": "bef4a2be-7d88-4435-8ea4-3fd29c6e4479",
   "metadata": {},
   "outputs": [
    {
     "data": {
      "text/html": [
       "<div>\n",
       "<style scoped>\n",
       "    .dataframe tbody tr th:only-of-type {\n",
       "        vertical-align: middle;\n",
       "    }\n",
       "\n",
       "    .dataframe tbody tr th {\n",
       "        vertical-align: top;\n",
       "    }\n",
       "\n",
       "    .dataframe thead th {\n",
       "        text-align: right;\n",
       "    }\n",
       "</style>\n",
       "<table border=\"1\" class=\"dataframe\">\n",
       "  <thead>\n",
       "    <tr style=\"text-align: right;\">\n",
       "      <th></th>\n",
       "      <th>sepal_length</th>\n",
       "      <th>sepal_width</th>\n",
       "      <th>petal_length</th>\n",
       "      <th>petal_width</th>\n",
       "      <th>class</th>\n",
       "      <th>z_sepal_length</th>\n",
       "      <th>z_sepal_width</th>\n",
       "      <th>z_petal_length</th>\n",
       "      <th>z_petal_width</th>\n",
       "    </tr>\n",
       "  </thead>\n",
       "  <tbody>\n",
       "    <tr>\n",
       "      <th>0</th>\n",
       "      <td>0.222222</td>\n",
       "      <td>0.625000</td>\n",
       "      <td>0.067797</td>\n",
       "      <td>0.041667</td>\n",
       "      <td>Iris-setosa</td>\n",
       "      <td>-0.897674</td>\n",
       "      <td>1.028611</td>\n",
       "      <td>-1.336794</td>\n",
       "      <td>-1.308593</td>\n",
       "    </tr>\n",
       "    <tr>\n",
       "      <th>1</th>\n",
       "      <td>0.166667</td>\n",
       "      <td>0.416667</td>\n",
       "      <td>0.067797</td>\n",
       "      <td>0.041667</td>\n",
       "      <td>Iris-setosa</td>\n",
       "      <td>-1.139200</td>\n",
       "      <td>-0.124540</td>\n",
       "      <td>-1.336794</td>\n",
       "      <td>-1.308593</td>\n",
       "    </tr>\n",
       "    <tr>\n",
       "      <th>2</th>\n",
       "      <td>0.111111</td>\n",
       "      <td>0.500000</td>\n",
       "      <td>0.050847</td>\n",
       "      <td>0.041667</td>\n",
       "      <td>Iris-setosa</td>\n",
       "      <td>-1.380727</td>\n",
       "      <td>0.336720</td>\n",
       "      <td>-1.393470</td>\n",
       "      <td>-1.308593</td>\n",
       "    </tr>\n",
       "    <tr>\n",
       "      <th>3</th>\n",
       "      <td>0.083333</td>\n",
       "      <td>0.458333</td>\n",
       "      <td>0.084746</td>\n",
       "      <td>0.041667</td>\n",
       "      <td>Iris-setosa</td>\n",
       "      <td>-1.501490</td>\n",
       "      <td>0.106090</td>\n",
       "      <td>-1.280118</td>\n",
       "      <td>-1.308593</td>\n",
       "    </tr>\n",
       "    <tr>\n",
       "      <th>4</th>\n",
       "      <td>0.194444</td>\n",
       "      <td>0.666667</td>\n",
       "      <td>0.067797</td>\n",
       "      <td>0.041667</td>\n",
       "      <td>Iris-setosa</td>\n",
       "      <td>-1.018437</td>\n",
       "      <td>1.259242</td>\n",
       "      <td>-1.336794</td>\n",
       "      <td>-1.308593</td>\n",
       "    </tr>\n",
       "  </tbody>\n",
       "</table>\n",
       "</div>"
      ],
      "text/plain": [
       "   sepal_length  sepal_width  petal_length  petal_width        class  \\\n",
       "0      0.222222     0.625000      0.067797     0.041667  Iris-setosa   \n",
       "1      0.166667     0.416667      0.067797     0.041667  Iris-setosa   \n",
       "2      0.111111     0.500000      0.050847     0.041667  Iris-setosa   \n",
       "3      0.083333     0.458333      0.084746     0.041667  Iris-setosa   \n",
       "4      0.194444     0.666667      0.067797     0.041667  Iris-setosa   \n",
       "\n",
       "   z_sepal_length  z_sepal_width  z_petal_length  z_petal_width  \n",
       "0       -0.897674       1.028611       -1.336794      -1.308593  \n",
       "1       -1.139200      -0.124540       -1.336794      -1.308593  \n",
       "2       -1.380727       0.336720       -1.393470      -1.308593  \n",
       "3       -1.501490       0.106090       -1.280118      -1.308593  \n",
       "4       -1.018437       1.259242       -1.336794      -1.308593  "
      ]
     },
     "execution_count": 41,
     "metadata": {},
     "output_type": "execute_result"
    }
   ],
   "source": [
    "## Transforming variables to 0-1 scale\n",
    "from sklearn.preprocessing import MinMaxScaler\n",
    "\n",
    "scaler = MinMaxScaler()\n",
    "\n",
    "## Transforming the variables\n",
    "\n",
    "iris.iloc[:,0:4] = scaler.fit_transform(iris.iloc[:,0:4])\n",
    "iris.head()"
   ]
  },
  {
   "cell_type": "code",
   "execution_count": 43,
   "id": "aaf39ffb-72e4-4f81-8c58-eaf71a2ad0eb",
   "metadata": {},
   "outputs": [],
   "source": [
    "## Random shuffle of the observations\n",
    "iris = iris.sample(frac = 1, random_state = 453).reset_index(drop = True)"
   ]
  },
  {
   "cell_type": "code",
   "execution_count": 46,
   "id": "a2ceb318-84d6-4a19-aa56-aa4b88c1d082",
   "metadata": {},
   "outputs": [],
   "source": [
    "## Splitting data into training and testing\n",
    "\n",
    "iris_train = iris.iloc[0:120, ]\n",
    "iris_test = iris.iloc[120:150, ]\n",
    "\n"
   ]
  },
  {
   "cell_type": "code",
   "execution_count": 48,
   "id": "b9a0d3a7-4d76-4f24-be4c-e82cb13fad75",
   "metadata": {},
   "outputs": [
    {
     "data": {
      "text/html": [
       "<div>\n",
       "<style scoped>\n",
       "    .dataframe tbody tr th:only-of-type {\n",
       "        vertical-align: middle;\n",
       "    }\n",
       "\n",
       "    .dataframe tbody tr th {\n",
       "        vertical-align: top;\n",
       "    }\n",
       "\n",
       "    .dataframe thead th {\n",
       "        text-align: right;\n",
       "    }\n",
       "</style>\n",
       "<table border=\"1\" class=\"dataframe\">\n",
       "  <thead>\n",
       "    <tr style=\"text-align: right;\">\n",
       "      <th></th>\n",
       "      <th>sepal_length</th>\n",
       "      <th>sepal_width</th>\n",
       "      <th>petal_length</th>\n",
       "      <th>petal_width</th>\n",
       "      <th>class</th>\n",
       "      <th>z_sepal_length</th>\n",
       "      <th>z_sepal_width</th>\n",
       "      <th>z_petal_length</th>\n",
       "      <th>z_petal_width</th>\n",
       "    </tr>\n",
       "  </thead>\n",
       "  <tbody>\n",
       "    <tr>\n",
       "      <th>0</th>\n",
       "      <td>0.194444</td>\n",
       "      <td>0.500000</td>\n",
       "      <td>0.033898</td>\n",
       "      <td>0.041667</td>\n",
       "      <td>Iris-setosa</td>\n",
       "      <td>-1.018437</td>\n",
       "      <td>0.336720</td>\n",
       "      <td>-1.450146</td>\n",
       "      <td>-1.308593</td>\n",
       "    </tr>\n",
       "    <tr>\n",
       "      <th>1</th>\n",
       "      <td>0.583333</td>\n",
       "      <td>0.500000</td>\n",
       "      <td>0.728814</td>\n",
       "      <td>0.916667</td>\n",
       "      <td>Iris-virginica</td>\n",
       "      <td>0.672249</td>\n",
       "      <td>0.336720</td>\n",
       "      <td>0.873564</td>\n",
       "      <td>1.443121</td>\n",
       "    </tr>\n",
       "    <tr>\n",
       "      <th>2</th>\n",
       "      <td>0.027778</td>\n",
       "      <td>0.416667</td>\n",
       "      <td>0.050847</td>\n",
       "      <td>0.041667</td>\n",
       "      <td>Iris-setosa</td>\n",
       "      <td>-1.743017</td>\n",
       "      <td>-0.124540</td>\n",
       "      <td>-1.393470</td>\n",
       "      <td>-1.308593</td>\n",
       "    </tr>\n",
       "    <tr>\n",
       "      <th>3</th>\n",
       "      <td>0.138889</td>\n",
       "      <td>0.583333</td>\n",
       "      <td>0.101695</td>\n",
       "      <td>0.041667</td>\n",
       "      <td>Iris-setosa</td>\n",
       "      <td>-1.259964</td>\n",
       "      <td>0.797981</td>\n",
       "      <td>-1.223442</td>\n",
       "      <td>-1.308593</td>\n",
       "    </tr>\n",
       "    <tr>\n",
       "      <th>4</th>\n",
       "      <td>0.722222</td>\n",
       "      <td>0.458333</td>\n",
       "      <td>0.694915</td>\n",
       "      <td>0.916667</td>\n",
       "      <td>Iris-virginica</td>\n",
       "      <td>1.276066</td>\n",
       "      <td>0.106090</td>\n",
       "      <td>0.760212</td>\n",
       "      <td>1.443121</td>\n",
       "    </tr>\n",
       "  </tbody>\n",
       "</table>\n",
       "</div>"
      ],
      "text/plain": [
       "   sepal_length  sepal_width  petal_length  petal_width           class  \\\n",
       "0      0.194444     0.500000      0.033898     0.041667     Iris-setosa   \n",
       "1      0.583333     0.500000      0.728814     0.916667  Iris-virginica   \n",
       "2      0.027778     0.416667      0.050847     0.041667     Iris-setosa   \n",
       "3      0.138889     0.583333      0.101695     0.041667     Iris-setosa   \n",
       "4      0.722222     0.458333      0.694915     0.916667  Iris-virginica   \n",
       "\n",
       "   z_sepal_length  z_sepal_width  z_petal_length  z_petal_width  \n",
       "0       -1.018437       0.336720       -1.450146      -1.308593  \n",
       "1        0.672249       0.336720        0.873564       1.443121  \n",
       "2       -1.743017      -0.124540       -1.393470      -1.308593  \n",
       "3       -1.259964       0.797981       -1.223442      -1.308593  \n",
       "4        1.276066       0.106090        0.760212       1.443121  "
      ]
     },
     "execution_count": 48,
     "metadata": {},
     "output_type": "execute_result"
    }
   ],
   "source": [
    "iris_train.head()"
   ]
  },
  {
   "cell_type": "code",
   "execution_count": 66,
   "id": "031a1a2b-7ffa-46b2-8686-b97d6d9da8a3",
   "metadata": {},
   "outputs": [
    {
     "data": {
      "text/plain": [
       "0       Iris-setosa\n",
       "1    Iris-virginica\n",
       "2       Iris-setosa\n",
       "3       Iris-setosa\n",
       "4    Iris-virginica\n",
       "Name: class, dtype: object"
      ]
     },
     "execution_count": 66,
     "metadata": {},
     "output_type": "execute_result"
    }
   ],
   "source": [
    "from sklearn.neighbors import KNeighborsClassifier\n",
    "\n",
    "## Defining the input and target variables\n",
    "X = iris_train.iloc[:,0:4]\n",
    "Y = iris_train['class']\n",
    "Y.head()\n"
   ]
  },
  {
   "cell_type": "code",
   "execution_count": 72,
   "id": "a40094e3-9190-468c-be37-c659fafb09f9",
   "metadata": {},
   "outputs": [
    {
     "data": {
      "text/plain": [
       "array(['Iris-versicolor', 'Iris-versicolor', 'Iris-virginica',\n",
       "       'Iris-virginica', 'Iris-versicolor', 'Iris-virginica',\n",
       "       'Iris-virginica', 'Iris-setosa', 'Iris-setosa', 'Iris-setosa',\n",
       "       'Iris-versicolor', 'Iris-versicolor', 'Iris-versicolor',\n",
       "       'Iris-setosa', 'Iris-virginica', 'Iris-virginica',\n",
       "       'Iris-versicolor', 'Iris-versicolor', 'Iris-versicolor',\n",
       "       'Iris-setosa', 'Iris-versicolor', 'Iris-virginica',\n",
       "       'Iris-versicolor', 'Iris-virginica', 'Iris-virginica',\n",
       "       'Iris-virginica', 'Iris-versicolor', 'Iris-versicolor',\n",
       "       'Iris-versicolor', 'Iris-setosa'], dtype=object)"
      ]
     },
     "execution_count": 72,
     "metadata": {},
     "output_type": "execute_result"
    }
   ],
   "source": [
    "## Building the 4 nearest neighbor classifier\n",
    "\n",
    "two_nn = KNeighborsClassifier(n_neighbors = 4).fit(X, Y)\n",
    "\n",
    "## Predicitng on the test dataset\n",
    "predictions = two_nn.predict(iris_test.iloc[:, 0:4])\n",
    "predictions"
   ]
  },
  {
   "cell_type": "code",
   "execution_count": 75,
   "id": "7b0867ba-0096-4507-a995-932bf95f8607",
   "metadata": {},
   "outputs": [
    {
     "data": {
      "text/html": [
       "<div>\n",
       "<style scoped>\n",
       "    .dataframe tbody tr th:only-of-type {\n",
       "        vertical-align: middle;\n",
       "    }\n",
       "\n",
       "    .dataframe tbody tr th {\n",
       "        vertical-align: top;\n",
       "    }\n",
       "\n",
       "    .dataframe thead th {\n",
       "        text-align: right;\n",
       "    }\n",
       "</style>\n",
       "<table border=\"1\" class=\"dataframe\">\n",
       "  <thead>\n",
       "    <tr style=\"text-align: right;\">\n",
       "      <th>class</th>\n",
       "      <th>Iris-setosa</th>\n",
       "      <th>Iris-versicolor</th>\n",
       "      <th>Iris-virginica</th>\n",
       "    </tr>\n",
       "    <tr>\n",
       "      <th>row_0</th>\n",
       "      <th></th>\n",
       "      <th></th>\n",
       "      <th></th>\n",
       "    </tr>\n",
       "  </thead>\n",
       "  <tbody>\n",
       "    <tr>\n",
       "      <th>Iris-setosa</th>\n",
       "      <td>6</td>\n",
       "      <td>0</td>\n",
       "      <td>0</td>\n",
       "    </tr>\n",
       "    <tr>\n",
       "      <th>Iris-versicolor</th>\n",
       "      <td>0</td>\n",
       "      <td>14</td>\n",
       "      <td>0</td>\n",
       "    </tr>\n",
       "    <tr>\n",
       "      <th>Iris-virginica</th>\n",
       "      <td>0</td>\n",
       "      <td>0</td>\n",
       "      <td>10</td>\n",
       "    </tr>\n",
       "  </tbody>\n",
       "</table>\n",
       "</div>"
      ],
      "text/plain": [
       "class            Iris-setosa  Iris-versicolor  Iris-virginica\n",
       "row_0                                                        \n",
       "Iris-setosa                6                0               0\n",
       "Iris-versicolor            0               14               0\n",
       "Iris-virginica             0                0              10"
      ]
     },
     "execution_count": 75,
     "metadata": {},
     "output_type": "execute_result"
    }
   ],
   "source": [
    "## Comparing actual values vs predictions\n",
    "pd.crosstab(predictions, iris_test['class'])"
   ]
  },
  {
   "cell_type": "code",
   "execution_count": null,
   "id": "8bdbe3f0-6ade-4e92-8766-32ce2b0a8158",
   "metadata": {},
   "outputs": [],
   "source": [
    "## Based on the predictions, the model does a good job predicting what the class will be with accurate findings."
   ]
  }
 ],
 "metadata": {
  "kernelspec": {
   "display_name": "Python 3",
   "language": "python",
   "name": "python3"
  },
  "language_info": {
   "codemirror_mode": {
    "name": "ipython",
    "version": 3
   },
   "file_extension": ".py",
   "mimetype": "text/x-python",
   "name": "python",
   "nbconvert_exporter": "python",
   "pygments_lexer": "ipython3",
   "version": "3.8.8"
  }
 },
 "nbformat": 4,
 "nbformat_minor": 5
}
