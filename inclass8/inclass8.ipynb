{
 "cells": [
  {
   "cell_type": "code",
   "execution_count": null,
   "id": "b3b45dfe-9c9f-4417-bf0b-e9f1dea9b063",
   "metadata": {},
   "outputs": [],
   "source": [
    "##question 1)\n",
    "##         C) both classification and regression\n",
    "##question 2)\n",
    "##         D) all of the above\n",
    "##question 3) \n",
    "##         A) 1.8\n",
    "##         B) 3.1"
   ]
  },
  {
   "cell_type": "code",
   "execution_count": 1,
   "id": "0a2e4228-cfa7-46c9-8599-d74f7eaee693",
   "metadata": {},
   "outputs": [
    {
     "data": {
      "text/plain": [
       "array([ 1,  3,  5,  7, 13])"
      ]
     },
     "execution_count": 1,
     "metadata": {},
     "output_type": "execute_result"
    }
   ],
   "source": [
    "import numpy as np\n",
    "\n",
    "##creating array\n",
    "a = np.array([1,3,5,7,13])\n",
    "a"
   ]
  },
  {
   "cell_type": "code",
   "execution_count": 4,
   "id": "47dcda2c-3062-489d-a212-ab2951ddd1de",
   "metadata": {},
   "outputs": [
    {
     "data": {
      "text/plain": [
       "array([0.        , 0.16666667, 0.33333333, 0.5       , 1.        ])"
      ]
     },
     "execution_count": 4,
     "metadata": {},
     "output_type": "execute_result"
    }
   ],
   "source": [
    "##0 - 1 transformation\n",
    "a_min = np.min(a)\n",
    "a_max = np.max(a)\n",
    "(a - a_min) / (a_max - a_min)"
   ]
  },
  {
   "cell_type": "code",
   "execution_count": 5,
   "id": "8c060ae7-110a-402c-be61-b33e5818474a",
   "metadata": {},
   "outputs": [
    {
     "data": {
      "text/plain": [
       "array([-1.04249338, -0.60812114, -0.1737489 ,  0.26062335,  1.56374007])"
      ]
     },
     "execution_count": 5,
     "metadata": {},
     "output_type": "execute_result"
    }
   ],
   "source": [
    "## z-score standardization\n",
    "a_mean = np.mean(a)\n",
    "a_sd = np.std(a, ddof = 1)\n",
    "(a - a_mean) / a_sd"
   ]
  }
 ],
 "metadata": {
  "kernelspec": {
   "display_name": "Python 3",
   "language": "python",
   "name": "python3"
  },
  "language_info": {
   "codemirror_mode": {
    "name": "ipython",
    "version": 3
   },
   "file_extension": ".py",
   "mimetype": "text/x-python",
   "name": "python",
   "nbconvert_exporter": "python",
   "pygments_lexer": "ipython3",
   "version": "3.8.8"
  }
 },
 "nbformat": 4,
 "nbformat_minor": 5
}
