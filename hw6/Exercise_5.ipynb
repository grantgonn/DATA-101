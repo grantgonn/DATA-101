{
 "cells": [
  {
   "cell_type": "code",
   "execution_count": 4,
   "id": "427a4fb6-5cf8-4b5a-aa45-4ba2d81b4737",
   "metadata": {},
   "outputs": [],
   "source": [
    "import pandas as pd"
   ]
  },
  {
   "cell_type": "code",
   "execution_count": 5,
   "id": "d1828c41-353c-4ef8-a0f0-87fd436819e4",
   "metadata": {},
   "outputs": [
    {
     "data": {
      "text/plain": [
       "<bound method NDFrame.head of       Age  Rate\n",
       "0     0.1    53\n",
       "1     0.2    38\n",
       "2     0.3    58\n",
       "3     0.3    52\n",
       "4     0.3    42\n",
       "..    ...   ...\n",
       "613  35.9    21\n",
       "614  35.9    22\n",
       "615  36.0    24\n",
       "616  36.0    27\n",
       "617  36.0    31\n",
       "\n",
       "[618 rows x 2 columns]>"
      ]
     },
     "execution_count": 5,
     "metadata": {},
     "output_type": "execute_result"
    }
   ],
   "source": [
    "##Reading csv file\n",
    "respiratory = pd.read_csv('respiratory.csv')\n",
    "respiratory.head"
   ]
  },
  {
   "cell_type": "code",
   "execution_count": 6,
   "id": "e33b9848-a3eb-47dd-b843-539becc7559b",
   "metadata": {},
   "outputs": [],
   "source": [
    "import matplotlib.pyplot as plt"
   ]
  },
  {
   "cell_type": "code",
   "execution_count": 7,
   "id": "af0179e0-822e-4f63-869d-6534f1ebd93d",
   "metadata": {},
   "outputs": [
    {
     "data": {
      "image/png": "[encoded data removed]",
      "text/plain": [
       "<Figure size 432x288 with 1 Axes>"
      ]
     },
     "metadata": {
      "needs_background": "light"
     },
     "output_type": "display_data"
    }
   ],
   "source": [
    "##Creating scatterplot\n",
    "plt.plot('Rate', 'Age', 'o', data = respiratory)\n",
    "plt.xlabel('Age')\n",
    "plt.ylabel('Rate')\n",
    "plt.grid()\n",
    "plt.show()"
   ]
  },
  {
   "cell_type": "code",
   "execution_count": null,
   "id": "c43dd604-30ce-44de-81a3-2099f97546c7",
   "metadata": {},
   "outputs": [],
   "source": [
    "##Based on the scatter plot above, there seems to be a relationship between age and respiratory rate. The values appear to curve downward and flatten as age increases"
   ]
  },
  {
   "cell_type": "code",
   "execution_count": 8,
   "id": "432bf4ae-2a92-4413-871f-a3ad494c3e4f",
   "metadata": {},
   "outputs": [],
   "source": [
    "import statsmodels.formula.api as smf"
   ]
  },
  {
   "cell_type": "code",
   "execution_count": 9,
   "id": "5c7fb446-808c-49bf-8401-cf9b037b1dc8",
   "metadata": {},
   "outputs": [
    {
     "data": {
      "text/html": [
       "<table class=\"simpletable\">\n",
       "<caption>OLS Regression Results</caption>\n",
       "<tr>\n",
       "  <th>Dep. Variable:</th>          <td>Rate</td>       <th>  R-squared:         </th> <td>   0.477</td>\n",
       "</tr>\n",
       "<tr>\n",
       "  <th>Model:</th>                   <td>OLS</td>       <th>  Adj. R-squared:    </th> <td>   0.476</td>\n",
       "</tr>\n",
       "<tr>\n",
       "  <th>Method:</th>             <td>Least Squares</td>  <th>  F-statistic:       </th> <td>   560.9</td>\n",
       "</tr>\n",
       "<tr>\n",
       "  <th>Date:</th>             <td>Tue, 19 Oct 2021</td> <th>  Prob (F-statistic):</th> <td>1.17e-88</td>\n",
       "</tr>\n",
       "<tr>\n",
       "  <th>Time:</th>                 <td>18:57:26</td>     <th>  Log-Likelihood:    </th> <td> -2148.7</td>\n",
       "</tr>\n",
       "<tr>\n",
       "  <th>No. Observations:</th>      <td>   618</td>      <th>  AIC:               </th> <td>   4301.</td>\n",
       "</tr>\n",
       "<tr>\n",
       "  <th>Df Residuals:</th>          <td>   616</td>      <th>  BIC:               </th> <td>   4310.</td>\n",
       "</tr>\n",
       "<tr>\n",
       "  <th>Df Model:</th>              <td>     1</td>      <th>                     </th>     <td> </td>   \n",
       "</tr>\n",
       "<tr>\n",
       "  <th>Covariance Type:</th>      <td>nonrobust</td>    <th>                     </th>     <td> </td>   \n",
       "</tr>\n",
       "</table>\n",
       "<table class=\"simpletable\">\n",
       "<tr>\n",
       "      <td></td>         <th>coef</th>     <th>std err</th>      <th>t</th>      <th>P>|t|</th>  <th>[0.025</th>    <th>0.975]</th>  \n",
       "</tr>\n",
       "<tr>\n",
       "  <th>Intercept</th> <td>   47.0522</td> <td>    0.504</td> <td>   93.317</td> <td> 0.000</td> <td>   46.062</td> <td>   48.042</td>\n",
       "</tr>\n",
       "<tr>\n",
       "  <th>Age</th>       <td>   -0.6957</td> <td>    0.029</td> <td>  -23.684</td> <td> 0.000</td> <td>   -0.753</td> <td>   -0.638</td>\n",
       "</tr>\n",
       "</table>\n",
       "<table class=\"simpletable\">\n",
       "<tr>\n",
       "  <th>Omnibus:</th>       <td>45.826</td> <th>  Durbin-Watson:     </th> <td>   1.481</td>\n",
       "</tr>\n",
       "<tr>\n",
       "  <th>Prob(Omnibus):</th> <td> 0.000</td> <th>  Jarque-Bera (JB):  </th> <td>  58.994</td>\n",
       "</tr>\n",
       "<tr>\n",
       "  <th>Skew:</th>          <td> 0.618</td> <th>  Prob(JB):          </th> <td>1.55e-13</td>\n",
       "</tr>\n",
       "<tr>\n",
       "  <th>Kurtosis:</th>      <td> 3.873</td> <th>  Cond. No.          </th> <td>    27.5</td>\n",
       "</tr>\n",
       "</table><br/><br/>Notes:<br/>[1] Standard Errors assume that the covariance matrix of the errors is correctly specified."
      ],
      "text/plain": [
       "<class 'statsmodels.iolib.summary.Summary'>\n",
       "\"\"\"\n",
       "                            OLS Regression Results                            \n",
       "==============================================================================\n",
       "Dep. Variable:                   Rate   R-squared:                       0.477\n",
       "Model:                            OLS   Adj. R-squared:                  0.476\n",
       "Method:                 Least Squares   F-statistic:                     560.9\n",
       "Date:                Tue, 19 Oct 2021   Prob (F-statistic):           1.17e-88\n",
       "Time:                        18:57:26   Log-Likelihood:                -2148.7\n",
       "No. Observations:                 618   AIC:                             4301.\n",
       "Df Residuals:                     616   BIC:                             4310.\n",
       "Df Model:                           1                                         \n",
       "Covariance Type:            nonrobust                                         \n",
       "==============================================================================\n",
       "                 coef    std err          t      P>|t|      [0.025      0.975]\n",
       "------------------------------------------------------------------------------\n",
       "Intercept     47.0522      0.504     93.317      0.000      46.062      48.042\n",
       "Age           -0.6957      0.029    -23.684      0.000      -0.753      -0.638\n",
       "==============================================================================\n",
       "Omnibus:                       45.826   Durbin-Watson:                   1.481\n",
       "Prob(Omnibus):                  0.000   Jarque-Bera (JB):               58.994\n",
       "Skew:                           0.618   Prob(JB):                     1.55e-13\n",
       "Kurtosis:                       3.873   Cond. No.                         27.5\n",
       "==============================================================================\n",
       "\n",
       "Notes:\n",
       "[1] Standard Errors assume that the covariance matrix of the errors is correctly specified.\n",
       "\"\"\""
      ]
     },
     "execution_count": 9,
     "metadata": {},
     "output_type": "execute_result"
    }
   ],
   "source": [
    "## Building the linear model\n",
    "lm_md = smf.ols(formula = 'Rate ~ Age', data = respiratory).fit()\n",
    "lm_md.summary()"
   ]
  },
  {
   "cell_type": "code",
   "execution_count": 37,
   "id": "45606ef1-b433-4fff-8088-ee0c1259ca0c",
   "metadata": {},
   "outputs": [],
   "source": [
    "## B0 is 47.0522. B1 is -0.6957"
   ]
  },
  {
   "cell_type": "code",
   "execution_count": 10,
   "id": "31d9e8c2-8743-4923-9351-43682c04d513",
   "metadata": {},
   "outputs": [],
   "source": [
    "##Fitting to linear regression model\n",
    "md = smf.ols(formula = 'Rate ~ Age', data = respiratory)\n",
    "results = md.fit()"
   ]
  },
  {
   "cell_type": "code",
   "execution_count": 11,
   "id": "e0cd7407-4e32-4acf-b138-069a3d50e6b7",
   "metadata": {},
   "outputs": [],
   "source": [
    "##Calculating the results\n",
    "residuals = respiratory['Rate'] - results.fittedvalues"
   ]
  },
  {
   "cell_type": "code",
   "execution_count": 12,
   "id": "38e55dc7-1cc5-4a73-8b10-d7fc29dfa62a",
   "metadata": {},
   "outputs": [
    {
     "data": {
      "image/png": "[encoded data removed]",
      "text/plain": [
       "<Figure size 432x288 with 1 Axes>"
      ]
     },
     "metadata": {
      "needs_background": "light"
     },
     "output_type": "display_data"
    }
   ],
   "source": [
    "## Plotting to check for linearity, Exercise D\n",
    "plt.plot(respiratory['Age'], residuals, 'o')\n",
    "plt.axhline(y = 0, color = 'black')\n",
    "plt.xlabel('Age')\n",
    "plt.ylabel('Residuals')\n",
    "plt.grid()"
   ]
  },
  {
   "cell_type": "code",
   "execution_count": 41,
   "id": "884321fd-a302-48d2-b91f-262fc958f496",
   "metadata": {},
   "outputs": [],
   "source": [
    "## Based on the scatterplot above, not a random plot of values. There appears to be a pattern of a \"Nike swoosh\" trending upwards in the data, so assumption would not be met."
   ]
  },
  {
   "cell_type": "code",
   "execution_count": 13,
   "id": "ef0ca386-efca-46ce-a9e6-a0acd8bd218c",
   "metadata": {},
   "outputs": [],
   "source": [
    "import numpy as np"
   ]
  },
  {
   "cell_type": "code",
   "execution_count": 14,
   "id": "0efe914b-8c77-405e-b952-81f818d6ace4",
   "metadata": {},
   "outputs": [],
   "source": [
    "##Adding new log values to data frame\n",
    "respiratory['log_rate'] = np.log(respiratory['Rate'])\n"
   ]
  },
  {
   "cell_type": "code",
   "execution_count": 15,
   "id": "5a3f920a-c1ae-4468-937c-58ebd13bea8e",
   "metadata": {},
   "outputs": [
    {
     "data": {
      "text/html": [
       "<table class=\"simpletable\">\n",
       "<caption>OLS Regression Results</caption>\n",
       "<tr>\n",
       "  <th>Dep. Variable:</th>        <td>log_rate</td>     <th>  R-squared:         </th> <td>   0.520</td> \n",
       "</tr>\n",
       "<tr>\n",
       "  <th>Model:</th>                   <td>OLS</td>       <th>  Adj. R-squared:    </th> <td>   0.519</td> \n",
       "</tr>\n",
       "<tr>\n",
       "  <th>Method:</th>             <td>Least Squares</td>  <th>  F-statistic:       </th> <td>   667.6</td> \n",
       "</tr>\n",
       "<tr>\n",
       "  <th>Date:</th>             <td>Tue, 19 Oct 2021</td> <th>  Prob (F-statistic):</th> <td>2.74e-100</td>\n",
       "</tr>\n",
       "<tr>\n",
       "  <th>Time:</th>                 <td>18:58:26</td>     <th>  Log-Likelihood:    </th> <td>  129.96</td> \n",
       "</tr>\n",
       "<tr>\n",
       "  <th>No. Observations:</th>      <td>   618</td>      <th>  AIC:               </th> <td>  -255.9</td> \n",
       "</tr>\n",
       "<tr>\n",
       "  <th>Df Residuals:</th>          <td>   616</td>      <th>  BIC:               </th> <td>  -247.1</td> \n",
       "</tr>\n",
       "<tr>\n",
       "  <th>Df Model:</th>              <td>     1</td>      <th>                     </th>     <td> </td>    \n",
       "</tr>\n",
       "<tr>\n",
       "  <th>Covariance Type:</th>      <td>nonrobust</td>    <th>                     </th>     <td> </td>    \n",
       "</tr>\n",
       "</table>\n",
       "<table class=\"simpletable\">\n",
       "<tr>\n",
       "      <td></td>         <th>coef</th>     <th>std err</th>      <th>t</th>      <th>P>|t|</th>  <th>[0.025</th>    <th>0.975]</th>  \n",
       "</tr>\n",
       "<tr>\n",
       "  <th>Intercept</th> <td>    3.8451</td> <td>    0.013</td> <td>  304.500</td> <td> 0.000</td> <td>    3.820</td> <td>    3.870</td>\n",
       "</tr>\n",
       "<tr>\n",
       "  <th>Age</th>       <td>   -0.0190</td> <td>    0.001</td> <td>  -25.839</td> <td> 0.000</td> <td>   -0.020</td> <td>   -0.018</td>\n",
       "</tr>\n",
       "</table>\n",
       "<table class=\"simpletable\">\n",
       "<tr>\n",
       "  <th>Omnibus:</th>       <td> 0.164</td> <th>  Durbin-Watson:     </th> <td>   1.546</td>\n",
       "</tr>\n",
       "<tr>\n",
       "  <th>Prob(Omnibus):</th> <td> 0.921</td> <th>  Jarque-Bera (JB):  </th> <td>   0.242</td>\n",
       "</tr>\n",
       "<tr>\n",
       "  <th>Skew:</th>          <td>-0.030</td> <th>  Prob(JB):          </th> <td>   0.886</td>\n",
       "</tr>\n",
       "<tr>\n",
       "  <th>Kurtosis:</th>      <td> 2.924</td> <th>  Cond. No.          </th> <td>    27.5</td>\n",
       "</tr>\n",
       "</table><br/><br/>Notes:<br/>[1] Standard Errors assume that the covariance matrix of the errors is correctly specified."
      ],
      "text/plain": [
       "<class 'statsmodels.iolib.summary.Summary'>\n",
       "\"\"\"\n",
       "                            OLS Regression Results                            \n",
       "==============================================================================\n",
       "Dep. Variable:               log_rate   R-squared:                       0.520\n",
       "Model:                            OLS   Adj. R-squared:                  0.519\n",
       "Method:                 Least Squares   F-statistic:                     667.6\n",
       "Date:                Tue, 19 Oct 2021   Prob (F-statistic):          2.74e-100\n",
       "Time:                        18:58:26   Log-Likelihood:                 129.96\n",
       "No. Observations:                 618   AIC:                            -255.9\n",
       "Df Residuals:                     616   BIC:                            -247.1\n",
       "Df Model:                           1                                         \n",
       "Covariance Type:            nonrobust                                         \n",
       "==============================================================================\n",
       "                 coef    std err          t      P>|t|      [0.025      0.975]\n",
       "------------------------------------------------------------------------------\n",
       "Intercept      3.8451      0.013    304.500      0.000       3.820       3.870\n",
       "Age           -0.0190      0.001    -25.839      0.000      -0.020      -0.018\n",
       "==============================================================================\n",
       "Omnibus:                        0.164   Durbin-Watson:                   1.546\n",
       "Prob(Omnibus):                  0.921   Jarque-Bera (JB):                0.242\n",
       "Skew:                          -0.030   Prob(JB):                        0.886\n",
       "Kurtosis:                       2.924   Cond. No.                         27.5\n",
       "==============================================================================\n",
       "\n",
       "Notes:\n",
       "[1] Standard Errors assume that the covariance matrix of the errors is correctly specified.\n",
       "\"\"\""
      ]
     },
     "execution_count": 15,
     "metadata": {},
     "output_type": "execute_result"
    }
   ],
   "source": [
    "## Creating a log-linear model of log age and rate\n",
    "lm_md = smf.ols(formula = 'log_rate ~ Age', data = respiratory).fit()\n",
    "lm_md.summary()"
   ]
  },
  {
   "cell_type": "code",
   "execution_count": 16,
   "id": "b06c932f-6b48-4818-af8b-11b9e5391f23",
   "metadata": {},
   "outputs": [
    {
     "data": {
      "text/plain": [
       "0    43.573596\n",
       "dtype: float64"
      ]
     },
     "execution_count": 16,
     "metadata": {},
     "output_type": "execute_result"
    }
   ],
   "source": [
    "lm_md = smf.ols(formula = 'Rate ~ Age', data = respiratory).fit()\n",
    "newdata = pd.DataFrame({'Age':[5]})\n",
    "lm_md.predict(newdata)\n",
    "\n",
    "## Looking at the model done in part D, the respiratory rate of a 5 month child would be around 43.57 breaths per minute."
   ]
  }
 ],
 "metadata": {
  "kernelspec": {
   "display_name": "Python 3",
   "language": "python",
   "name": "python3"
  },
  "language_info": {
   "codemirror_mode": {
    "name": "ipython",
    "version": 3
   },
   "file_extension": ".py",
   "mimetype": "text/x-python",
   "name": "python",
   "nbconvert_exporter": "python",
   "pygments_lexer": "ipython3",
   "version": "3.8.8"
  }
 },
 "nbformat": 4,
 "nbformat_minor": 5
}
